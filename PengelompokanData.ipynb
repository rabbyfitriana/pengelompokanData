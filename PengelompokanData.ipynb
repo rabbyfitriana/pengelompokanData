{
  "nbformat": 4,
  "nbformat_minor": 0,
  "metadata": {
    "colab": {
      "provenance": []
    },
    "kernelspec": {
      "name": "python3",
      "display_name": "Python 3"
    },
    "language_info": {
      "name": "python"
    }
  },
  "cells": [
    {
      "cell_type": "code",
      "execution_count": null,
      "metadata": {
        "id": "JerPtDVoPkdP"
      },
      "outputs": [],
      "source": []
    },
    {
      "cell_type": "markdown",
      "source": [
        "'''NAMA  : Rabby Fitriana Adawiyah\n",
        "   NIM   : 1101202505\n",
        "   KELAS : TT-44-04\n",
        "   TUGAS 13 PYTHON (Konsep Pengelompokan Data serta Penggunaan Library Sci-Kit Learn)'''"
      ],
      "metadata": {
        "id": "91u3iNxRP26A"
      }
    },
    {
      "cell_type": "code",
      "source": [
        "import pandas as pd\n",
        "import numpy as np\n",
        "import matplotlib.pyplot as plt\n",
        "import seaborn as sns"
      ],
      "metadata": {
        "id": "x11jJlgTQJIU"
      },
      "execution_count": null,
      "outputs": []
    },
    {
      "cell_type": "code",
      "source": [
        "data = pd.read_csv('diabetes.csv')\n",
        "data.head()"
      ],
      "metadata": {
        "id": "N0VzBVFRQoyz"
      },
      "execution_count": null,
      "outputs": []
    },
    {
      "cell_type": "code",
      "source": [
        "print(data.shape)"
      ],
      "metadata": {
        "id": "j-ZbLhgrR0C7"
      },
      "execution_count": null,
      "outputs": []
    },
    {
      "cell_type": "code",
      "source": [
        "print(pd.value_counts(data.Outcome))"
      ],
      "metadata": {
        "id": "xPAUnYzSR1AW"
      },
      "execution_count": null,
      "outputs": []
    },
    {
      "cell_type": "code",
      "source": [
        "data.describe()"
      ],
      "metadata": {
        "id": "bAbClrruR3AK"
      },
      "execution_count": null,
      "outputs": []
    },
    {
      "cell_type": "code",
      "source": [
        "data.info()"
      ],
      "metadata": {
        "id": "EWZvV1xLR5aW"
      },
      "execution_count": null,
      "outputs": []
    },
    {
      "cell_type": "code",
      "source": [
        "data.isnull().sum()"
      ],
      "metadata": {
        "id": "yuQn0DKJR9bH"
      },
      "execution_count": null,
      "outputs": []
    },
    {
      "cell_type": "code",
      "source": [
        "data['Pregnancies'].hist()"
      ],
      "metadata": {
        "id": "hVSoH6E1R-dv"
      },
      "execution_count": null,
      "outputs": []
    },
    {
      "cell_type": "code",
      "source": [
        "data['Glucose'].hist()"
      ],
      "metadata": {
        "id": "72se4KfxSAtf"
      },
      "execution_count": null,
      "outputs": []
    },
    {
      "cell_type": "code",
      "source": [
        "data['BloodPressure'].hist()"
      ],
      "metadata": {
        "id": "hhwZO_tjSDMt"
      },
      "execution_count": null,
      "outputs": []
    },
    {
      "cell_type": "code",
      "source": [
        "data['SkinThickness'].hist()"
      ],
      "metadata": {
        "id": "mSwLPSYbSFd6"
      },
      "execution_count": null,
      "outputs": []
    },
    {
      "cell_type": "code",
      "source": [
        "data['Insulin'].hist()"
      ],
      "metadata": {
        "id": "bQnwov4TSJJm"
      },
      "execution_count": null,
      "outputs": []
    },
    {
      "cell_type": "code",
      "source": [
        "data['BMI'].hist()"
      ],
      "metadata": {
        "id": "xwarpCUVSL2a"
      },
      "execution_count": null,
      "outputs": []
    },
    {
      "cell_type": "code",
      "source": [
        "data['DiabetesPedigreeFunction'].hist()"
      ],
      "metadata": {
        "id": "hvS2nAXQSOZy"
      },
      "execution_count": null,
      "outputs": []
    },
    {
      "cell_type": "code",
      "source": [
        "data['Age'].hist()"
      ],
      "metadata": {
        "id": "EzKI9Y4hSQtr"
      },
      "execution_count": null,
      "outputs": []
    },
    {
      "cell_type": "code",
      "source": [
        "data['Outcome'].hist()"
      ],
      "metadata": {
        "id": "qAuhmjb-STl_"
      },
      "execution_count": null,
      "outputs": []
    },
    {
      "cell_type": "code",
      "source": [
        "sns.FacetGrid(data, hue='Outcome', size=10).map(plt.scatter,\"Age\",\"Glucose\").add_legend"
      ],
      "metadata": {
        "id": "tGNu6_4cSV1_"
      },
      "execution_count": null,
      "outputs": []
    },
    {
      "cell_type": "code",
      "source": [
        "sns.FacetGrid(data, hue='Outcome', size=10).map(plt.scatter,\"Age\",\"BloodPressure\").add_legend"
      ],
      "metadata": {
        "id": "4LZoDgTnSYcA"
      },
      "execution_count": null,
      "outputs": []
    },
    {
      "cell_type": "code",
      "source": [
        "sns.FacetGrid(data, hue='Outcome', size=10).map(plt.scatter,\"Age\",\"BMI\").add_legend"
      ],
      "metadata": {
        "id": "2VJKfuYcScTq"
      },
      "execution_count": null,
      "outputs": []
    },
    {
      "cell_type": "code",
      "source": [
        "from sklearn.model_selection import train_test_split\n",
        "X=data.drop(columns=['Outcome'])\n",
        "Y=data['Outcome']\n",
        "x_train,x_test, y_train, y_test =train_test_split(X,Y,test_size=0.3)"
      ],
      "metadata": {
        "id": "UXnv1823SfLb"
      },
      "execution_count": null,
      "outputs": []
    },
    {
      "cell_type": "code",
      "source": [
        "from sklearn.linear_model import LogisticRegression\n",
        "model = LogisticRegression()\n",
        "model.fit(x_train, y_train)\n",
        "print('Akurasi : ',model.score(x_test,y_test)*100)"
      ],
      "metadata": {
        "id": "1LG7kywTSiBR"
      },
      "execution_count": null,
      "outputs": []
    },
    {
      "cell_type": "code",
      "source": [
        "from sklearn.neighbors import KNeighborsClassifier\n",
        "model = KNeighborsClassifier()\n",
        "model.fit(x_train, y_train)\n",
        "print('Akurasi : ',model.score(x_test,y_test)*100)"
      ],
      "metadata": {
        "id": "YpB2oJaXSkO0"
      },
      "execution_count": null,
      "outputs": []
    },
    {
      "cell_type": "code",
      "source": [
        "from sklearn.tree import DecisionTreeClassifier\n",
        "model = DecisionTreeClassifier()\n",
        "model.fit(x_train, y_train)\n",
        "print('Akurasi : ',model.score(x_test,y_test)*100)"
      ],
      "metadata": {
        "id": "fkFjXsV5Snn-"
      },
      "execution_count": null,
      "outputs": []
    },
    {
      "cell_type": "code",
      "source": [
        "from sklearn.naive_bayes import GaussianNB\n",
        "model = GaussianNB()\n",
        "model.fit(x_train, y_train)\n",
        "print('Akurasi : ',model.score(x_test,y_test)*100)"
      ],
      "metadata": {
        "id": "ymPlUgHxSqLw"
      },
      "execution_count": null,
      "outputs": []
    }
  ]
}